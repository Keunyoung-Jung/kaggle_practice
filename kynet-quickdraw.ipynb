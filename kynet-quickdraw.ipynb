{
 "cells": [
  {
   "cell_type": "markdown",
   "metadata": {},
   "source": [
    "# 진행과정과 생각 정리"
   ]
  },
  {
   "cell_type": "markdown",
   "metadata": {},
   "source": [
    "1. 문제 인식\n",
    "\n",
    "문제에 제시된 설명을 읽고난 후 손그림을 분류 340개의 클래스로 훈련시켜 줘야한다는 것을 알았다.\n",
    "평가 매기는 방식은 key_id칼럼의 테스트 세트에 대해 word값중 acc가 높은 3개의 클래스를 넣어 csv로 만들어주는 것이고\n",
    "word에 들어있는 공백은 '_'로 치환하여 제출하라고 되어있었다.\n",
    "데이터 탭으로 들어가 데이터에 대한 설명을 읽었다.\n",
    "raw데이터와 simplified데이터가 있는데 모두 사용할수 있다고 했으나\n",
    "simplified데이터가 동일안 정보를 효과적으로 제공한다고 써있어서 사용하였다 (raw도 확인하려 했으나 안들어가졌다.)\n",
    "그 후 sample_submission에서 제출 양식을 확인할 수 있었다.\n",
    "\n",
    "2. 데이터 확인\n",
    "\n",
    "그 후에 제공된 데이터 확인을 하였다.\n",
    "csv의 갯수 즉 클래스의 갯수는 340개였고, \n",
    "bird.csv를 읽어와서 확인해봤더니 countrycode,drawing,key_id,recognized,timestamp,word 칼럼이 있었다.\n",
    "bird.csv의 데이터의 갯수는 12만개 정도 였고, 누락값은 없었다.\n",
    "그림에 대한 이상치데이터는 recognized 칼럼 부분이 True와 False로 나타내고 있었는데 \n",
    "bird.csv데이터 2000개를 기준으로 True가 1659개 False가 341개 였다.\n",
    "처음에는 test에도 False데이터가 있을거라고 판단하여 데이터 전체를 사용하였다.\n",
    "그 후 문제에 제시된 word 열의 공백을 모두 '_'로 replace 해주었다.\n",
    "\n",
    "3. 첫번째 난관\n",
    "\n",
    "drawing이 이미지를 나타내는 칼럼이었는데 pandas로 읽었기 때문에 모두 string으로 반환되었다\n",
    "그래서 검색 결과 np.matrix를 통해 변환할 수 있다는 것을 알았고 matrix를 사용하여\n",
    "변환해 보았지만 가장안쪽 배열의 구조는 유지 되지 않은채 값들을 전부 1차원으로 반환하였다.\n",
    "문자열이라 shape도 1차원으로 나오는 탓에 고민을 많이 했다.\n",
    "그 후에 ast.literal_eval이라는 함수가 시퀀스형 데이터로 만들어진 문자열을 시퀀스 데이터 그대로변환할수있는걸 알았고\n",
    "ast.literal_eval 함수를 이용하여 시퀀스형 데이터로 변환해 주었다.\n",
    "\n",
    "4. 두번째 난관\n",
    "\n",
    "배열은 변환 하였으나 이미지가 NxN형태의 배열이 아니었다. \n",
    "꽤나 오랫동안 고민끝에 홈페이지의 문제를 다시 인식하기로 했고 dataset에 대한 깃허브페이지가 있었다.\n",
    "깃허브 페이지를 보아 x,y,t로 이루어져있고 t에대한 정보를 제거해서 사용한다고 써있었는데\n",
    "csv로 주어진 대회 데이터는 t는 이미 지워진 형태였다. bird[0]을 뽑아서 2가지의 배열만 있다는 것을 확인할 수 있었다.\n",
    "그 후에 plt.plot을 이용하여 xy배열을 넣어 확인해보니 그림의 형태가 그려졌다.\n",
    "\n",
    "5. 세번째 난관\n",
    "\n",
    "그림은 그렸으나 이것을 이미지로 만들어야만 훈련데이터에 집어넣어 훈련을 해볼 수 있었는데 \n",
    "plt에서 그린그림을 그대로 사용하기에는 색깔도 있고 정확한 형태가 아니었다.\n",
    "그래서 pillow 모듈을 이용하여 이미지를 직접 그려넣어 주었다.\n",
    "이미지를 확인하는 과정에서 True data와 False data를 확인해보았는데 \n",
    "False데이터는 그림이 아닌것들도 있고 (예를들면 airplane 데이터의 그림의 대부분이 AIRPLANE이라고 영어로 손글씨로 적어논 그림들이 있다.)\n",
    "제대로 그려지지 않았기 때문에 True data만 사용하기로 하였다.\n",
    "\n",
    "6. 네번째 난관\n",
    "\n",
    "전처리 알고리즘을 끝내고 training data를 만드는데 1개의 클래스 (1개의 csv파일)당 약 1분30초가량걸렸다.\n",
    "데이터를 모두 읽어오기에는 전체 데이터의 갯수가 약 3000만개 이므로 RAM 메모리에 올릴수가 없어 물리적 문제가 생기고 \n",
    "1개의 파일(클래스)당 1분30초가 걸리기 때문에 340개의 클래스를 모두 읽기에는 시간적으로도 문제가 있었다.\n",
    "일단 훈련이 되고 accuracy확인한 후에 데이터의 갯수를 정해는게 맞다고 생각이 들어 \n",
    "클래스당 1000개의 데이터로 먼저 진행을 하였다.\n",
    "\n",
    "7. 다섯번째 난관\n",
    "\n",
    "CNN모델을 설계하여 바로 집어넣어 봤으나 전에 배웠던 1.9.0 버전이라 문법오류가 났다. \n",
    "kaggle kernel에서 제공하는 tf버전은 2.0임을 확인한 후에 tensorflow와 keras중 고민하다가\n",
    "아직 사용해보지 않은 keras를 공부하는 목적에서 keras책을 구입하여 keras로 모델을 설계했다.\n",
    "\n",
    "8. keras공부 후\n",
    "\n",
    "CNN 초기모델을 먼저 설계해서 넣어보았다 그러나 Training data의 loss가 전혀 떨어 지지않았다.\n",
    "VGG16 모델 또한 직접 설계하여 넣어 보았는데 CNN 과 같이 역시 loss가 떨어지지 않는 문제가 생겼다.\n",
    "그 후 데이터 전처리의 문제인지 모델의 문제인지 확인하기 위해 \n",
    "검증된 모델인 ResNet모델을 넣어 보았는데 작동이 되기 시작했다 그러나 22epoch기준으로 \n",
    "acc가 훈련데이터는 평균 :0.7 최고 : 0.98 , 검증데이터는 평균 :0.5 최고 :0.83 에서 그쳤다.\n",
    "epoch을 늘리기엔 훈련시간이 약 5시간정도 걸렸기 때문에 클래스를 줄여서 모델별로 acc를 확인하며 진행을 해보기로 하였다.\n",
    "\n",
    "9. 실험 과정\n",
    "\n",
    "3클래스 CNN은 loss가 떨어지지않아 acc도 오르지 않음 \n",
    "       VGG16 도 CNN과 같은 결과\n",
    "       ResNet은 50 epoch결과 val데이터를 0.97까지 구분해 냈다.\n",
    "\n",
    "50클래스 CNN 위와 비슷한결과\n",
    "        VGG16 역시 비슷한결과\n",
    "        ResNet은 오르긴 하지만 일정구간에서 val데이터셋의 loss가 떨어지지 않고 오버피팅이 일어났다.\n",
    "\n",
    "recognized 가True인 것으로 실험\n",
    "위의 5번에서 말한것과 같이 False데이터를 제외하고 다시 훈련을 시켜 보았다.\n",
    "\n",
    "50클래스 CNN도 작동하기 시작했고 평균 acc가 83 , top acc가 95까지 줄었다. 훈련시간이 매우 적었다.\n",
    "        VGG는 역시 작동하지 않았다.(이유는 convolution이 여러번 쌓여 5x5나 7x7필터처럼 작용하는것 때문으로 생각 한다.)\n",
    "        ResNet은 12epoch때 까지는 loss가 충분히 감소하고 평균 acc가 87 , top3 acc가 98 까지 나왔다.\n",
    "하지만 모든 모델들이 에포크 초반에 오버피팅이 되어 val loss가 발산을 하는 것을 확인할 수가 있었다.\n",
    "\n",
    "먼저 오버피팅을 막기위해 CNN초기모델을 커스텀하여 모델을 만들어 보고자 하였다.\n",
    "batch nomalization노드를 넣어 주고 실험을 다시했다. 그러나 아직도 오버피팅으로\n",
    "loss가 발산해서 발산하지 않게 하는것을 목표로 했다 dropout을 추가해서 다시 해보았더니 loss는 발산하지 않았지만\n",
    "전체 acc가 높게 나오지 않았다. 그래서 데이터의 형태를 다시 보고 일정한패턴은 있지만 유일무이한 패턴이\n",
    "없다고 생각하고 averagepooling을 사용해보았더니 loss가 안정되고 acc가 향상 되었다.\n",
    "\n",
    "그 후 Accuracy를 높이기 위해 전처리된 이미지 데이터를 바꿔보기로 하였다.\n",
    "처음 그렸던 그림은 배경이 255 그림이 0 값을 가지고 있었기에 배경을 0으로 그림을 1로 바꿔주어서 확인 해보았다.\n",
    "50클래스 반전 이미지 CNN val loss 0.58 val 평균 acc 87 \n",
    "                  CNN_average val_loss 0.5 평균 acc 0.88 \n",
    "                  ResNet val_loss 0.49 평균 acc 0.89\n",
    "\n",
    "ResNet은 성능이 제일 좋게 나왔지만 그냥 짜여진 모델을 사용하는 것보다는 직접 설계해본 모델로 제출하기로 마음 먹고\n",
    "설계한 모델로 340클래스당 데이터 2000개씩 훈련시켜 분류 해보기로 하였다. \n",
    "\n",
    "340클래스 average pooling사용 -> val acc 75 top3 acc 91\n",
    "         Max pooling사용 -> val acc 69 top3 acc 89\n",
    "\n",
    "최종적으로 average pooling을 사용한 모델로 결정하여 제출하기로 하였다."
   ]
  },
  {
   "cell_type": "markdown",
   "metadata": {},
   "source": [
    "# 사용할 패키지 모듈 import"
   ]
  },
  {
   "cell_type": "code",
   "execution_count": 1,
   "metadata": {},
   "outputs": [
    {
     "name": "stderr",
     "output_type": "stream",
     "text": [
      "Using TensorFlow backend.\n"
     ]
    }
   ],
   "source": [
    "# This Python 3 environment comes with many helpful analytics libraries installed\n",
    "# It is defined by the kaggle/python docker image: https://github.com/kaggle/docker-python\n",
    "# For example, here's several helpful packages to load in \n",
    "\n",
    "import numpy as np # linear algebra\n",
    "import pandas as pd # data processing, CSV file I/O (e.g. pd.read_csv)\n",
    "import matplotlib.pyplot as plt\n",
    "from PIL import Image , ImageDraw\n",
    "from sklearn.preprocessing import *\n",
    "import time\n",
    "import ast\n",
    "import os\n",
    "import tensorflow as tf\n",
    "from keras import models, layers\n",
    "from keras import Input\n",
    "from keras.models import Model, load_model\n",
    "from keras.preprocessing.image import ImageDataGenerator\n",
    "from keras import optimizers, initializers, regularizers, metrics\n",
    "from keras.callbacks import ModelCheckpoint, EarlyStopping\n",
    "from keras.layers import BatchNormalization, Conv2D, Activation , AveragePooling2D\n",
    "from keras.layers import Dense, GlobalAveragePooling2D, MaxPooling2D, ZeroPadding2D, Add\n",
    "from keras.models import Sequential\n",
    "from keras.metrics import top_k_categorical_accuracy\n",
    "from keras.callbacks import ModelCheckpoint, ReduceLROnPlateau, EarlyStopping\n",
    "from tqdm import tqdm\n",
    "\n",
    "for dirname, _, filenames in os.walk('/kaggle/input'):\n",
    "    for filename in filenames:\n",
    "        fpath = os.path.join(dirname, filename)"
   ]
  },
  {
   "cell_type": "markdown",
   "metadata": {},
   "source": [
    "# 폴더이름과 파일 이름 확인"
   ]
  },
  {
   "cell_type": "code",
   "execution_count": 2,
   "metadata": {},
   "outputs": [
    {
     "name": "stdout",
     "output_type": "stream",
     "text": [
      "/kaggle/input/quickdraw-doodle-recognition/train_simplified\n",
      "sleeping bag.csv\n"
     ]
    }
   ],
   "source": [
    "print(dirname)\n",
    "print(filenames[0])"
   ]
  },
  {
   "cell_type": "markdown",
   "metadata": {},
   "source": [
    "# pandas를 이용하여 데이터 확인"
   ]
  },
  {
   "cell_type": "code",
   "execution_count": 3,
   "metadata": {},
   "outputs": [
    {
     "name": "stdout",
     "output_type": "stream",
     "text": [
      "<class 'numpy.bool_'>\n",
      "[ True  True  True  True False]\n",
      "0 1 2 3 \n",
      "True Count : 1659\n",
      "False Count : 341\n"
     ]
    },
    {
     "data": {
      "text/html": [
       "<div>\n",
       "<style scoped>\n",
       "    .dataframe tbody tr th:only-of-type {\n",
       "        vertical-align: middle;\n",
       "    }\n",
       "\n",
       "    .dataframe tbody tr th {\n",
       "        vertical-align: top;\n",
       "    }\n",
       "\n",
       "    .dataframe thead th {\n",
       "        text-align: right;\n",
       "    }\n",
       "</style>\n",
       "<table border=\"1\" class=\"dataframe\">\n",
       "  <thead>\n",
       "    <tr style=\"text-align: right;\">\n",
       "      <th></th>\n",
       "      <th>countrycode</th>\n",
       "      <th>drawing</th>\n",
       "      <th>key_id</th>\n",
       "      <th>recognized</th>\n",
       "      <th>timestamp</th>\n",
       "      <th>word</th>\n",
       "    </tr>\n",
       "  </thead>\n",
       "  <tbody>\n",
       "    <tr>\n",
       "      <th>0</th>\n",
       "      <td>US</td>\n",
       "      <td>[[[0, 11, 23, 50, 72, 96, 97, 132, 158, 224, 2...</td>\n",
       "      <td>4926006882205696</td>\n",
       "      <td>True</td>\n",
       "      <td>2017-03-09 00:28:55.637750</td>\n",
       "      <td>bird</td>\n",
       "    </tr>\n",
       "    <tr>\n",
       "      <th>1</th>\n",
       "      <td>US</td>\n",
       "      <td>[[[65, 194, 221, 240, 250, 255, 251, 242, 227,...</td>\n",
       "      <td>5357674197680128</td>\n",
       "      <td>True</td>\n",
       "      <td>2017-03-29 04:22:58.822970</td>\n",
       "      <td>bird</td>\n",
       "    </tr>\n",
       "    <tr>\n",
       "      <th>2</th>\n",
       "      <td>US</td>\n",
       "      <td>[[[159, 163, 175, 189, 201, 209, 227, 245, 253...</td>\n",
       "      <td>5553672849195008</td>\n",
       "      <td>True</td>\n",
       "      <td>2017-03-17 19:31:28.879810</td>\n",
       "      <td>bird</td>\n",
       "    </tr>\n",
       "    <tr>\n",
       "      <th>3</th>\n",
       "      <td>DE</td>\n",
       "      <td>[[[72, 76, 81], [138, 178, 193]], [[87, 116], ...</td>\n",
       "      <td>5635633911431168</td>\n",
       "      <td>True</td>\n",
       "      <td>2017-03-20 14:13:01.811800</td>\n",
       "      <td>bird</td>\n",
       "    </tr>\n",
       "    <tr>\n",
       "      <th>4</th>\n",
       "      <td>ZA</td>\n",
       "      <td>[[[28, 25, 36, 49, 70, 88, 113, 126, 139, 157,...</td>\n",
       "      <td>5696703329992704</td>\n",
       "      <td>False</td>\n",
       "      <td>2017-03-10 13:05:10.002030</td>\n",
       "      <td>bird</td>\n",
       "    </tr>\n",
       "  </tbody>\n",
       "</table>\n",
       "</div>"
      ],
      "text/plain": [
       "  countrycode                                            drawing  \\\n",
       "0          US  [[[0, 11, 23, 50, 72, 96, 97, 132, 158, 224, 2...   \n",
       "1          US  [[[65, 194, 221, 240, 250, 255, 251, 242, 227,...   \n",
       "2          US  [[[159, 163, 175, 189, 201, 209, 227, 245, 253...   \n",
       "3          DE  [[[72, 76, 81], [138, 178, 193]], [[87, 116], ...   \n",
       "4          ZA  [[[28, 25, 36, 49, 70, 88, 113, 126, 139, 157,...   \n",
       "\n",
       "             key_id  recognized                   timestamp  word  \n",
       "0  4926006882205696        True  2017-03-09 00:28:55.637750  bird  \n",
       "1  5357674197680128        True  2017-03-29 04:22:58.822970  bird  \n",
       "2  5553672849195008        True  2017-03-17 19:31:28.879810  bird  \n",
       "3  5635633911431168        True  2017-03-20 14:13:01.811800  bird  \n",
       "4  5696703329992704       False  2017-03-10 13:05:10.002030  bird  "
      ]
     },
     "execution_count": 3,
     "metadata": {},
     "output_type": "execute_result"
    }
   ],
   "source": [
    "df = pd.read_csv(dirname+'/'+'bird.csv')\n",
    "df['word'] = df['word'].replace(' ','_',regex = True)\n",
    "print(type(df['recognized'][0]))\n",
    "\n",
    "idx= df.iloc[:5].index\n",
    "print(df.loc[idx,'recognized'].values)\n",
    "\n",
    "for i in range(len(df.loc[idx,'drawing'].values)) :\n",
    "    if df.loc[idx,'recognized'].values[i] == True :\n",
    "        print(i, end=' ')\n",
    "\n",
    "idx= df.iloc[:2000].index\n",
    "T_cnt = 0\n",
    "F_cnt = 0\n",
    "for i in range(len(df.loc[idx,'drawing'].values)) :\n",
    "    if df.loc[idx,'recognized'].values[i] == True :\n",
    "        T_cnt += 1\n",
    "    else : F_cnt += 1\n",
    "\n",
    "print('\\nTrue Count :',T_cnt)\n",
    "print('False Count :',F_cnt)\n",
    "df.head()"
   ]
  },
  {
   "cell_type": "markdown",
   "metadata": {},
   "source": [
    "# pyplot을 이용하여 그림 확인"
   ]
  },
  {
   "cell_type": "code",
   "execution_count": 4,
   "metadata": {},
   "outputs": [
    {
     "name": "stdout",
     "output_type": "stream",
     "text": [
      "[[[72, 76, 81], [138, 178, 193]], [[87, 116], [174, 209]], [[68, 62, 58], [191, 196, 212]], [[161, 156, 160], [136, 182, 196]], [[149, 138, 130], [192, 199, 214]], [[169, 200], [190, 214]], [[52, 111, 156, 173, 187, 196, 203, 204, 197, 183, 158, 121, 86, 63, 47, 46, 50], [130, 149, 152, 150, 143, 136, 122, 98, 80, 65, 52, 47, 56, 73, 105, 124, 135]], [[59, 17, 0], [71, 112, 140]], [[84, 68, 40, 23, 6], [82, 88, 105, 121, 146]], [[66, 29, 0], [99, 118, 140]], [[194, 206], [80, 50]], [[241, 226, 216, 195, 190, 190, 196, 203, 214, 230, 229, 214], [6, 6, 9, 26, 35, 53, 62, 64, 63, 42, 31, 0]], [[223, 255, 246, 228], [24, 30, 39, 43]]]\n"
     ]
    },
    {
     "data": {
      "image/png": "[encoded data removed]",
      "text/plain": [
       "<Figure size 432x288 with 1 Axes>"
      ]
     },
     "metadata": {
      "needs_background": "light"
     },
     "output_type": "display_data"
    }
   ],
   "source": [
    "def check_draw(img_arr) :\n",
    "    k=3\n",
    "    for i in range(len(img_arr[k])):\n",
    "        img = plt.plot(img_arr[k][i][0],img_arr[k][i][1])\n",
    "        plt.scatter(img_arr[k][i][0],img_arr[k][i][1])\n",
    "    plt.xlim(0,256)\n",
    "    plt.ylim(0,256)\n",
    "    plt.gca().invert_yaxis()\n",
    "\n",
    "ten_ids = df.iloc[:10].index\n",
    "img_arr = [ast.literal_eval(lst) for lst in df.loc[ten_ids,'drawing'].values]  #ast.literal_eval is squence data made string to array\n",
    "print(img_arr[3])\n",
    "check_draw(img_arr)"
   ]
  },
  {
   "cell_type": "markdown",
   "metadata": {},
   "source": [
    "# vector로 표현된 데이터를 이미지로 만들기위해 이미지로 그려준다"
   ]
  },
  {
   "cell_type": "code",
   "execution_count": 5,
   "metadata": {},
   "outputs": [
    {
     "data": {
      "text/plain": [
       "<matplotlib.image.AxesImage at 0x7ff3cf814c88>"
      ]
     },
     "execution_count": 5,
     "metadata": {},
     "output_type": "execute_result"
    },
    {
     "data": {
      "image/png": "[encoded data removed]",
      "text/plain": [
       "<Figure size 432x288 with 1 Axes>"
      ]
     },
     "metadata": {
      "needs_background": "light"
     },
     "output_type": "display_data"
    }
   ],
   "source": [
    "def make_img(img_arr) :\n",
    "    image = Image.new(\"P\", (256,256), color=255)\n",
    "    image_draw = ImageDraw.Draw(image)\n",
    "    for stroke in img_arr:\n",
    "        for i in range(len(stroke[0])-1):\n",
    "            image_draw.line([stroke[0][i], \n",
    "                             stroke[1][i],\n",
    "                             stroke[0][i+1], \n",
    "                             stroke[1][i+1]],\n",
    "                            fill=0, width=5)\n",
    "    return image\n",
    "img = make_img(img_arr[3])\n",
    "img = img.resize((64,64))\n",
    "plt.imshow(img)"
   ]
  },
  {
   "cell_type": "markdown",
   "metadata": {},
   "source": [
    "# 전처리시 데이터가 전처리되는 과정을 확인할 퍼센트바"
   ]
  },
  {
   "cell_type": "code",
   "execution_count": 6,
   "metadata": {},
   "outputs": [],
   "source": [
    "bar = '□□□□□□□□□□'\n",
    "sw = 1\n",
    "def percent_bar(array,count,st_time):   #퍼센트를 표시해주는 함수\n",
    "    global bar\n",
    "    global sw\n",
    "    length = len(array)\n",
    "    percent = (count/length)*100\n",
    "    spend_time = time.time()-st_time\n",
    "    if count == 1 :\n",
    "        print('preprocessing...')\n",
    "    print('\\r'+bar+'%3s'%str(int(percent))+'% '+str(count)+'/'+str(length),'%.2f'%(spend_time)+'sec',end='')\n",
    "    if sw == 1 :\n",
    "        if int(percent) % 10 == 0 :\n",
    "            bar = bar.replace('□','■',1)\n",
    "            sw = 0\n",
    "    elif sw == 0 :\n",
    "        if int(percent) % 10 != 0 :\n",
    "            sw = 1"
   ]
  },
  {
   "cell_type": "markdown",
   "metadata": {},
   "source": [
    "# 위 함수들을 이용하여 전처리를 하여 Train데이터를 추출"
   ]
  },
  {
   "cell_type": "code",
   "execution_count": 7,
   "metadata": {
    "_cell_guid": "b1076dfc-b9ad-4769-8c92-a6c4dae69d19",
    "_uuid": "8f2839f25d086af736a60e9eeb907d3b93b6e0e5"
   },
   "outputs": [
    {
     "name": "stdout",
     "output_type": "stream",
     "text": [
      "preprocessing...\n",
      "■■■■■■■■■■100% 340/340 1709.19sec\n",
      " (624091, 64, 64, 1) (624091, 340) \n",
      "5th class :  ['sleeping_bag', 'house_plant', 'bathtub', 'key', 'triangle']\n"
     ]
    }
   ],
   "source": [
    "def preprocessing(filenames) :\n",
    "    img_batch = 2000\n",
    "    X= []\n",
    "    Y= []\n",
    "    class_label = []\n",
    "    st_time = time.time()\n",
    "    class_num = 340\n",
    "    Y_num = 0\n",
    "    for fname in filenames[0:class_num] :\n",
    "        percent_bar(filenames[0:class_num],Y_num+1,st_time)\n",
    "        df = pd.read_csv(os.path.join(dirname,fname))\n",
    "        df['word'] = df['word'].replace(' ','_',regex = True)\n",
    "        class_label.append(df['word'][0])\n",
    "        keys = df.iloc[:img_batch].index\n",
    "        #print(len(keys))\n",
    "        \n",
    "        for i in range(len(df.loc[keys,'drawing'].values)) :\n",
    "            if df.loc[keys,'recognized'].values[i] == True :\n",
    "                drawing = ast.literal_eval(df.loc[keys,'drawing'].values[i])\n",
    "                img = make_img(drawing)\n",
    "                img = np.array(img.resize((64,64)))\n",
    "                img = img.reshape(64,64,1)\n",
    "                X.append(img)\n",
    "                Y.append(Y_num)\n",
    "        Y_num += 1\n",
    "        \n",
    "    tmpx = np.array(X)\n",
    "\n",
    "    Y = np.array([[i] for i in Y])\n",
    "    enc = OneHotEncoder(categories='auto')\n",
    "    enc.fit(Y)\n",
    "    tmpy = enc.transform(Y).toarray()\n",
    "    \n",
    "    del X\n",
    "    del Y     #RAM메모리 절약을 위해 사용하지 않는 변수 삭제\n",
    "    \n",
    "    return tmpx , tmpy , class_label , class_num\n",
    "\n",
    "tmpx , tmpy , class_label , class_num = preprocessing(filenames)\n",
    "print('\\n',tmpx.shape, tmpy.shape, '\\n5th class : ',class_label[0:5])\n",
    "#df.head()\n",
    "#print(drawing[0])\n",
    "#img = make_img(drawing[1])\n",
    "#plt.imshow(img)"
   ]
  },
  {
   "cell_type": "markdown",
   "metadata": {},
   "source": [
    "# 모델에서 확인할 train과 test를 나누어줌"
   ]
  },
  {
   "cell_type": "code",
   "execution_count": 8,
   "metadata": {},
   "outputs": [
    {
     "name": "stdout",
     "output_type": "stream",
     "text": [
      "(561681, 64, 64, 1) (62410, 64, 64, 1) (561681, 340) (62410, 340)\n"
     ]
    }
   ],
   "source": [
    "from sklearn.model_selection import train_test_split\n",
    "X_train, X_val, Y_train, Y_val = train_test_split(tmpx,tmpy, test_size = 0.1,random_state = 0)\n",
    "del tmpx\n",
    "del tmpy     #RAM메모리 절약을 위해 사용하지 않는 변수 삭제\n",
    "\n",
    "print(X_train.shape,X_val.shape,Y_train.shape,Y_val.shape)"
   ]
  },
  {
   "cell_type": "markdown",
   "metadata": {},
   "source": [
    "# 모델설계"
   ]
  },
  {
   "cell_type": "markdown",
   "metadata": {},
   "source": [
    "**CNN 모델"
   ]
  },
  {
   "cell_type": "code",
   "execution_count": 9,
   "metadata": {},
   "outputs": [
    {
     "name": "stdout",
     "output_type": "stream",
     "text": [
      "Model: \"sequential_1\"\n",
      "_________________________________________________________________\n",
      "Layer (type)                 Output Shape              Param #   \n",
      "=================================================================\n",
      "conv2d_1 (Conv2D)            (None, 64, 64, 32)        320       \n",
      "_________________________________________________________________\n",
      "batch_normalization_1 (Batch (None, 64, 64, 32)        128       \n",
      "_________________________________________________________________\n",
      "activation_1 (Activation)    (None, 64, 64, 32)        0         \n",
      "_________________________________________________________________\n",
      "max_pooling2d_1 (MaxPooling2 (None, 32, 32, 32)        0         \n",
      "_________________________________________________________________\n",
      "dropout_1 (Dropout)          (None, 32, 32, 32)        0         \n",
      "_________________________________________________________________\n",
      "conv2d_2 (Conv2D)            (None, 32, 32, 64)        18496     \n",
      "_________________________________________________________________\n",
      "batch_normalization_2 (Batch (None, 32, 32, 64)        256       \n",
      "_________________________________________________________________\n",
      "activation_2 (Activation)    (None, 32, 32, 64)        0         \n",
      "_________________________________________________________________\n",
      "average_pooling2d_1 (Average (None, 16, 16, 64)        0         \n",
      "_________________________________________________________________\n",
      "dropout_2 (Dropout)          (None, 16, 16, 64)        0         \n",
      "_________________________________________________________________\n",
      "conv2d_3 (Conv2D)            (None, 16, 16, 128)       73856     \n",
      "_________________________________________________________________\n",
      "batch_normalization_3 (Batch (None, 16, 16, 128)       512       \n",
      "_________________________________________________________________\n",
      "activation_3 (Activation)    (None, 16, 16, 128)       0         \n",
      "_________________________________________________________________\n",
      "average_pooling2d_2 (Average (None, 8, 8, 128)         0         \n",
      "_________________________________________________________________\n",
      "dropout_3 (Dropout)          (None, 8, 8, 128)         0         \n",
      "_________________________________________________________________\n",
      "conv2d_4 (Conv2D)            (None, 8, 8, 256)         295168    \n",
      "_________________________________________________________________\n",
      "batch_normalization_4 (Batch (None, 8, 8, 256)         1024      \n",
      "_________________________________________________________________\n",
      "activation_4 (Activation)    (None, 8, 8, 256)         0         \n",
      "_________________________________________________________________\n",
      "average_pooling2d_3 (Average (None, 4, 4, 256)         0         \n",
      "_________________________________________________________________\n",
      "dropout_4 (Dropout)          (None, 4, 4, 256)         0         \n",
      "_________________________________________________________________\n",
      "conv2d_5 (Conv2D)            (None, 4, 4, 512)         1180160   \n",
      "_________________________________________________________________\n",
      "batch_normalization_5 (Batch (None, 4, 4, 512)         2048      \n",
      "_________________________________________________________________\n",
      "average_pooling2d_4 (Average (None, 2, 2, 512)         0         \n",
      "_________________________________________________________________\n",
      "flatten_1 (Flatten)          (None, 2048)              0         \n",
      "_________________________________________________________________\n",
      "dense_1 (Dense)              (None, 2048)              4196352   \n",
      "_________________________________________________________________\n",
      "dropout_5 (Dropout)          (None, 2048)              0         \n",
      "_________________________________________________________________\n",
      "dense_2 (Dense)              (None, 340)               696660    \n",
      "=================================================================\n",
      "Total params: 6,464,980\n",
      "Trainable params: 6,462,996\n",
      "Non-trainable params: 1,984\n",
      "_________________________________________________________________\n"
     ]
    }
   ],
   "source": [
    "#CNN\n",
    "inputs = (64,64,1)\n",
    "st_filter = 32\n",
    "filter_size = (3,3) \n",
    "CNN = Sequential()\n",
    "CNN.add(layers.Conv2D(st_filter,filter_size, input_shape = inputs ,padding= 'same'))\n",
    "CNN.add(BatchNormalization())\n",
    "CNN.add(Activation('relu'))\n",
    "CNN.add(layers.MaxPooling2D((2,2),padding= 'same'))\n",
    "CNN.add(layers.Dropout(0.5))\n",
    "CNN.add(layers.Conv2D(st_filter*2,filter_size, input_shape = inputs,padding= 'same'))\n",
    "CNN.add(BatchNormalization())\n",
    "CNN.add(Activation('relu'))\n",
    "CNN.add(layers.AveragePooling2D((2,2),padding= 'same'))\n",
    "CNN.add(layers.Dropout(0.5))\n",
    "CNN.add(layers.Conv2D(st_filter*4,filter_size, input_shape = inputs,padding= 'same'))\n",
    "CNN.add(BatchNormalization())\n",
    "CNN.add(Activation('relu'))\n",
    "CNN.add(layers.AveragePooling2D((2,2),padding= 'same'))\n",
    "CNN.add(layers.Dropout(0.25))\n",
    "CNN.add(layers.Conv2D(st_filter*8,filter_size, input_shape = inputs,padding= 'same'))\n",
    "CNN.add(BatchNormalization())\n",
    "CNN.add(Activation('relu'))\n",
    "CNN.add(layers.AveragePooling2D((2,2),padding= 'same'))\n",
    "CNN.add(layers.Dropout(0.25))\n",
    "CNN.add(layers.Conv2D(st_filter*16,filter_size, input_shape = inputs,padding= 'same'))\n",
    "CNN.add(BatchNormalization())\n",
    "CNN.add(layers.AveragePooling2D((2,2),padding= 'same'))\n",
    "CNN.add(layers.Flatten())\n",
    "CNN.add(layers.Dense(2*2*512,activation = 'relu'))\n",
    "CNN.add(layers.Dropout(0.5))\n",
    "CNN.add(layers.Dense(class_num, activation = 'softmax'))\n",
    "\n",
    "CNN.summary()"
   ]
  },
  {
   "cell_type": "markdown",
   "metadata": {},
   "source": [
    "**VGG16 모델"
   ]
  },
  {
   "cell_type": "markdown",
   "metadata": {
    "_cell_guid": "79c7e3d0-c299-4dcb-8224-4455121ee9b0",
    "_uuid": "d629ff2d2480ee46fbb7e2d37f6b5fab8052498a"
   },
   "source": [
    "****VGG16****\n",
    "\n",
    "    inputs = (64,64,1)\n",
    "    st_filter = 32\n",
    "    filter_size = (3,3) \n",
    "\n",
    "    VGG16 = Sequential()\n",
    "    VGG16.add(layers.Conv2D(st_filter,filter_size, activation = 'relu', input_shape = inputs ,padding= 'same'))\n",
    "    VGG16.add(layers.Conv2D(st_filter,filter_size, activation = 'relu', input_shape = inputs ,padding= 'same'))\n",
    "    VGG16.add(layers.MaxPooling2D((2,2),padding= 'same'))\n",
    "    VGG16.add(layers.Conv2D(st_filter*2,filter_size, activation = 'relu', input_shape = inputs,padding= 'same'))\n",
    "    VGG16.add(layers.Conv2D(st_filter*2,filter_size, activation = 'relu', input_shape = inputs ,padding= 'same'))\n",
    "    VGG16.add(layers.MaxPooling2D((2,2),padding= 'same'))\n",
    "    VGG16.add(layers.Conv2D(st_filter*4,filter_size, activation = 'relu', input_shape = inputs,padding= 'same'))\n",
    "    VGG16.add(layers.Conv2D(st_filter*4,filter_size, activation = 'relu', input_shape = inputs ,padding= 'same'))\n",
    "    VGG16.add(layers.Conv2D(st_filter*4,filter_size, activation = 'relu', input_shape = inputs ,padding= 'same'))\n",
    "    VGG16.add(layers.MaxPooling2D((2,2),padding= 'same'))\n",
    "    VGG16.add(layers.Conv2D(st_filter*8,filter_size, activation = 'relu', input_shape = inputs,padding= 'same'))\n",
    "    VGG16.add(layers.Conv2D(st_filter*8,filter_size, activation = 'relu', input_shape = inputs ,padding= 'same'))\n",
    "    VGG16.add(layers.Conv2D(st_filter*8,filter_size, activation = 'relu', input_shape = inputs ,padding= 'same'))\n",
    "    VGG16.add(layers.MaxPooling2D((2,2),padding= 'same'))\n",
    "    VGG16.add(layers.Conv2D(st_filter*16,filter_size, activation = 'relu', input_shape = inputs ,padding= 'same'))\n",
    "    VGG16.add(layers.Conv2D(st_filter*16,filter_size, activation = 'relu', input_shape = inputs ,padding= 'same'))\n",
    "    VGG16.add(layers.Conv2D(st_filter*16,filter_size, activation = 'relu', input_shape = inputs ,padding= 'same'))\n",
    "    VGG16.add(layers.MaxPooling2D((2,2),padding= 'same'))\n",
    "    VGG16.add(layers.Flatten())\n",
    "    VGG16.add(layers.Dense(2*2*512,activation = 'relu'))\n",
    "    VGG16.add(layers.Dropout(0.5))\n",
    "    VGG16.add(layers.Dense(class_num, activation = 'softmax'))\n",
    "\n",
    "    VGG16.summary()"
   ]
  },
  {
   "cell_type": "markdown",
   "metadata": {},
   "source": [
    "**ResNet50"
   ]
  },
  {
   "cell_type": "markdown",
   "metadata": {},
   "source": [
    "    #ResNet50\n",
    "    K = class_num\n",
    "\n",
    "    input_tensor = Input(shape=(64, 64, 1), dtype='float32', name='input')\n",
    "\n",
    "    def conv1_layer(x):    \n",
    "        x = ZeroPadding2D(padding=(3, 3))(x)\n",
    "        x = Conv2D(64, (7, 7), strides=(2, 2))(x)\n",
    "        x = BatchNormalization()(x)\n",
    "        x = Activation('relu')(x)\n",
    "        x = ZeroPadding2D(padding=(1,1))(x)\n",
    "\n",
    "        return x   \n",
    "\n",
    "    def conv2_layer(x):         \n",
    "        x = MaxPooling2D((3, 3), 2)(x)     \n",
    "\n",
    "        shortcut = x\n",
    "\n",
    "        for i in range(3):\n",
    "            if (i == 0):\n",
    "                x = Conv2D(64, (1, 1), strides=(1, 1), padding='valid')(x)\n",
    "                x = BatchNormalization()(x)\n",
    "                x = Activation('relu')(x)\n",
    "\n",
    "                x = Conv2D(64, (3, 3), strides=(1, 1), padding='same')(x)\n",
    "                x = BatchNormalization()(x)\n",
    "                x = Activation('relu')(x)\n",
    "\n",
    "                x = Conv2D(256, (1, 1), strides=(1, 1), padding='valid')(x)\n",
    "                shortcut = Conv2D(256, (1, 1), strides=(1, 1), padding='valid')(shortcut)            \n",
    "                x = BatchNormalization()(x)\n",
    "                shortcut = BatchNormalization()(shortcut)\n",
    "\n",
    "                x = Add()([x, shortcut])\n",
    "                x = Activation('relu')(x)\n",
    "\n",
    "                shortcut = x\n",
    "\n",
    "            else:\n",
    "                x = Conv2D(64, (1, 1), strides=(1, 1), padding='valid')(x)\n",
    "                x = BatchNormalization()(x)\n",
    "                x = Activation('relu')(x)\n",
    "\n",
    "                x = Conv2D(64, (3, 3), strides=(1, 1), padding='same')(x)\n",
    "                x = BatchNormalization()(x)\n",
    "                x = Activation('relu')(x)\n",
    "\n",
    "                x = Conv2D(256, (1, 1), strides=(1, 1), padding='valid')(x)\n",
    "                x = BatchNormalization()(x)            \n",
    "\n",
    "                x = Add()([x, shortcut])   \n",
    "                x = Activation('relu')(x)  \n",
    "\n",
    "                shortcut = x        \n",
    "\n",
    "        return x\n",
    "\n",
    "    def conv3_layer(x):        \n",
    "        shortcut = x    \n",
    "\n",
    "        for i in range(4):     \n",
    "            if(i == 0):            \n",
    "                x = Conv2D(128, (1, 1), strides=(2, 2), padding='valid')(x)\n",
    "                x = BatchNormalization()(x)\n",
    "                x = Activation('relu')(x)        \n",
    "\n",
    "                x = Conv2D(128, (3, 3), strides=(1, 1), padding='same')(x)\n",
    "                x = BatchNormalization()(x)\n",
    "                x = Activation('relu')(x)  \n",
    "\n",
    "                x = Conv2D(512, (1, 1), strides=(1, 1), padding='valid')(x)\n",
    "                shortcut = Conv2D(512, (1, 1), strides=(2, 2), padding='valid')(shortcut)\n",
    "                x = BatchNormalization()(x)\n",
    "                shortcut = BatchNormalization()(shortcut)            \n",
    "\n",
    "                x = Add()([x, shortcut])    \n",
    "                x = Activation('relu')(x)    \n",
    "\n",
    "                shortcut = x              \n",
    "\n",
    "            else:\n",
    "                x = Conv2D(128, (1, 1), strides=(1, 1), padding='valid')(x)\n",
    "                x = BatchNormalization()(x)\n",
    "                x = Activation('relu')(x)\n",
    "\n",
    "                x = Conv2D(128, (3, 3), strides=(1, 1), padding='same')(x)\n",
    "                x = BatchNormalization()(x)\n",
    "                x = Activation('relu')(x)\n",
    "\n",
    "                x = Conv2D(512, (1, 1), strides=(1, 1), padding='valid')(x)\n",
    "                x = BatchNormalization()(x)            \n",
    "\n",
    "                x = Add()([x, shortcut])     \n",
    "                x = Activation('relu')(x)\n",
    "\n",
    "                shortcut = x      \n",
    "\n",
    "        return x\n",
    "\n",
    "    def conv4_layer(x):\n",
    "        shortcut = x        \n",
    "\n",
    "        for i in range(6):     \n",
    "            if(i == 0):            \n",
    "                x = Conv2D(256, (1, 1), strides=(2, 2), padding='valid')(x)\n",
    "                x = BatchNormalization()(x)\n",
    "                x = Activation('relu')(x)        \n",
    "\n",
    "                x = Conv2D(256, (3, 3), strides=(1, 1), padding='same')(x)\n",
    "                x = BatchNormalization()(x)\n",
    "                x = Activation('relu')(x)  \n",
    "\n",
    "                x = Conv2D(1024, (1, 1), strides=(1, 1), padding='valid')(x)\n",
    "                shortcut = Conv2D(1024, (1, 1), strides=(2, 2), padding='valid')(shortcut)\n",
    "                x = BatchNormalization()(x)\n",
    "                shortcut = BatchNormalization()(shortcut)\n",
    "\n",
    "                x = Add()([x, shortcut]) \n",
    "                x = Activation('relu')(x)\n",
    "\n",
    "                shortcut = x               \n",
    "\n",
    "            else:\n",
    "                x = Conv2D(256, (1, 1), strides=(1, 1), padding='valid')(x)\n",
    "                x = BatchNormalization()(x)\n",
    "                x = Activation('relu')(x)\n",
    "\n",
    "                x = Conv2D(256, (3, 3), strides=(1, 1), padding='same')(x)\n",
    "                x = BatchNormalization()(x)\n",
    "                x = Activation('relu')(x)\n",
    "\n",
    "                x = Conv2D(1024, (1, 1), strides=(1, 1), padding='valid')(x)\n",
    "                x = BatchNormalization()(x)            \n",
    "\n",
    "                x = Add()([x, shortcut])    \n",
    "                x = Activation('relu')(x)\n",
    "\n",
    "                shortcut = x      \n",
    "\n",
    "        return x\n",
    "\n",
    "    def conv5_layer(x):\n",
    "        shortcut = x    \n",
    "\n",
    "        for i in range(3):     \n",
    "            if(i == 0):            \n",
    "                x = Conv2D(512, (1, 1), strides=(2, 2), padding='valid')(x)\n",
    "                x = BatchNormalization()(x)\n",
    "                x = Activation('relu')(x)        \n",
    "\n",
    "                x = Conv2D(512, (3, 3), strides=(1, 1), padding='same')(x)\n",
    "                x = BatchNormalization()(x)\n",
    "                x = Activation('relu')(x)  \n",
    "\n",
    "                x = Conv2D(2048, (1, 1), strides=(1, 1), padding='valid')(x)\n",
    "                shortcut = Conv2D(2048, (1, 1), strides=(2, 2), padding='valid')(shortcut)\n",
    "                x = BatchNormalization()(x)\n",
    "                shortcut = BatchNormalization()(shortcut)            \n",
    "\n",
    "                x = Add()([x, shortcut])  \n",
    "                x = Activation('relu')(x)      \n",
    "\n",
    "                shortcut = x               \n",
    "\n",
    "            else:\n",
    "                x = Conv2D(512, (1, 1), strides=(1, 1), padding='valid')(x)\n",
    "                x = BatchNormalization()(x)\n",
    "                x = Activation('relu')(x)\n",
    "\n",
    "                x = Conv2D(512, (3, 3), strides=(1, 1), padding='same')(x)\n",
    "                x = BatchNormalization()(x)\n",
    "                x = Activation('relu')(x)\n",
    "\n",
    "                x = Conv2D(2048, (1, 1), strides=(1, 1), padding='valid')(x)\n",
    "                x = BatchNormalization()(x)           \n",
    "\n",
    "                x = Add()([x, shortcut]) \n",
    "                x = Activation('relu')(x)       \n",
    "\n",
    "                shortcut = x                  \n",
    "\n",
    "        return x\n",
    "\n",
    "    x = conv1_layer(input_tensor)\n",
    "    x = conv2_layer(x)\n",
    "    x = conv3_layer(x)\n",
    "    x = conv4_layer(x)\n",
    "    x = conv5_layer(x)\n",
    "    x = GlobalAveragePooling2D()(x)\n",
    "    output_tensor = Dense(K, activation='softmax')(x)\n",
    "\n",
    "    resnet50 = Model(input_tensor, output_tensor)\n",
    "    resnet50.summary()"
   ]
  },
  {
   "cell_type": "markdown",
   "metadata": {},
   "source": [
    "# 훈련을통해 정확도 검증"
   ]
  },
  {
   "cell_type": "code",
   "execution_count": 10,
   "metadata": {},
   "outputs": [
    {
     "name": "stdout",
     "output_type": "stream",
     "text": [
      "Train on 561681 samples, validate on 62410 samples\n",
      "Epoch 1/40\n",
      "561681/561681 [==============================] - 200s 355us/step - loss: 2.4464 - accuracy: 0.4188 - top_3_accuracy: 0.6254 - val_loss: 1.6251 - val_accuracy: 0.5738 - val_top_3_accuracy: 0.7844\n",
      "Epoch 2/40\n",
      "561681/561681 [==============================] - 192s 342us/step - loss: 1.6568 - accuracy: 0.5686 - top_3_accuracy: 0.7811 - val_loss: 1.3043 - val_accuracy: 0.6472 - val_top_3_accuracy: 0.8434\n",
      "Epoch 3/40\n",
      "561681/561681 [==============================] - 193s 343us/step - loss: 1.3287 - accuracy: 0.6400 - top_3_accuracy: 0.8395 - val_loss: 1.1243 - val_accuracy: 0.6896 - val_top_3_accuracy: 0.8746\n",
      "Epoch 5/40\n",
      "561681/561681 [==============================] - 192s 342us/step - loss: 1.2534 - accuracy: 0.6574 - top_3_accuracy: 0.8523 - val_loss: 1.0693 - val_accuracy: 0.7041 - val_top_3_accuracy: 0.8823\n",
      "Epoch 6/40\n",
      "561681/561681 [==============================] - 193s 343us/step - loss: 1.1995 - accuracy: 0.6699 - top_3_accuracy: 0.8611 - val_loss: 1.1996 - val_accuracy: 0.6723 - val_top_3_accuracy: 0.8615\n",
      "Epoch 7/40\n",
      "561681/561681 [==============================] - 192s 342us/step - loss: 0.8865 - accuracy: 0.7423 - top_3_accuracy: 0.9107 - val_loss: 0.8794 - val_accuracy: 0.7529 - val_top_3_accuracy: 0.9149\n",
      "Epoch 20/40\n",
      "561681/561681 [==============================] - 193s 343us/step - loss: 0.7544 - accuracy: 0.7742 - top_3_accuracy: 0.9299 - val_loss: 0.8545 - val_accuracy: 0.7639 - val_top_3_accuracy: 0.9189\n",
      "Epoch 33/40\n",
      "561681/561681 [==============================] - 193s 343us/step - loss: 0.7253 - accuracy: 0.7818 - top_3_accuracy: 0.9339 - val_loss: 0.8520 - val_accuracy: 0.7643 - val_top_3_accuracy: 0.9196\n"
     ]
    }
   ],
   "source": [
    "def top_3_accuracy(x,y): \n",
    "    t3 = top_k_categorical_accuracy(x,y, 3)\n",
    "    return t3\n",
    "\n",
    "learning_rate = 0.0001\n",
    "reduceLROnPlat = ReduceLROnPlateau(monitor='val_loss', factor=0.5, patience=3, \n",
    "                                   verbose=1, mode='auto', min_delta=0.005, cooldown=5, min_lr=learning_rate)\n",
    "earlystop = EarlyStopping(monitor='val_top_3_accuracy', mode='max', patience=4) \n",
    "callbacks = [reduceLROnPlat, earlystop]\n",
    "\n",
    "CNN.compile(loss='categorical_crossentropy',\n",
    "              optimizer='adam',\n",
    "              metrics=['accuracy', top_3_accuracy])\n",
    "\n",
    "history = CNN.fit(x=X_train, y=Y_train,\n",
    "          batch_size = 128,\n",
    "          epochs = 40,\n",
    "          validation_data = (X_val, Y_val),\n",
    "          callbacks = callbacks,\n",
    "          verbose = 1)\n",
    "\n",
    "#drop out no -> 0.75 0.90"
   ]
  },
  {
   "cell_type": "markdown",
   "metadata": {},
   "source": [
    "# 그래프를 통한 성능 검증"
   ]
  },
  {
   "cell_type": "code",
   "execution_count": 11,
   "metadata": {},
   "outputs": [
    {
     "data": {
      "image/png": "[encoded data removed]",
      "text/plain": [
       "<Figure size 432x288 with 1 Axes>"
      ]
     },
     "metadata": {
      "needs_background": "light"
     },
     "output_type": "display_data"
    },
    {
     "data": {
      "image/png": "[encoded data removed]",
      "text/plain": [
       "<Figure size 432x288 with 1 Axes>"
      ]
     },
     "metadata": {
      "needs_background": "light"
     },
     "output_type": "display_data"
    }
   ],
   "source": [
    "acc = history.history['accuracy']\n",
    "val_acc = history.history['val_accuracy']\n",
    "loss = history.history['loss']\n",
    "val_loss = history.history['val_loss']\n",
    "\n",
    "epochs = range(1,len(acc) + 1 )\n",
    "\n",
    "plt.plot(epochs, acc, 'bo' , label = 'Training Accuracy')\n",
    "plt.plot(epochs, val_acc, 'b' , label = 'Validation Accuracy')\n",
    "plt.title('Training and Validation accuracy')\n",
    "plt.legend()\n",
    "\n",
    "plt.figure()\n",
    "\n",
    "plt.plot(epochs, loss, 'bo' , label = 'Training Loss')\n",
    "plt.plot(epochs, val_loss, 'b' , label = 'Validation Loss')\n",
    "plt.title('Training and Validation Loss')\n",
    "plt.legend()\n",
    "\n",
    "plt.show()"
   ]
  },
  {
   "cell_type": "markdown",
   "metadata": {},
   "source": [
    "# test데이터 전처리"
   ]
  },
  {
   "cell_type": "code",
   "execution_count": 12,
   "metadata": {},
   "outputs": [
    {
     "name": "stderr",
     "output_type": "stream",
     "text": [
      "100%|██████████| 112199/112199 [10:55<00:00, 171.11it/s]\n"
     ]
    },
    {
     "name": "stdout",
     "output_type": "stream",
     "text": [
      "(112199, 3) (112199, 64, 64, 1)\n"
     ]
    },
    {
     "data": {
      "text/html": [
       "<div>\n",
       "<style scoped>\n",
       "    .dataframe tbody tr th:only-of-type {\n",
       "        vertical-align: middle;\n",
       "    }\n",
       "\n",
       "    .dataframe tbody tr th {\n",
       "        vertical-align: top;\n",
       "    }\n",
       "\n",
       "    .dataframe thead th {\n",
       "        text-align: right;\n",
       "    }\n",
       "</style>\n",
       "<table border=\"1\" class=\"dataframe\">\n",
       "  <thead>\n",
       "    <tr style=\"text-align: right;\">\n",
       "      <th></th>\n",
       "      <th>key_id</th>\n",
       "      <th>countrycode</th>\n",
       "      <th>drawing</th>\n",
       "    </tr>\n",
       "  </thead>\n",
       "  <tbody>\n",
       "    <tr>\n",
       "      <th>0</th>\n",
       "      <td>9000003627287624</td>\n",
       "      <td>DE</td>\n",
       "      <td>[[[17, 18, 20, 25, 137, 174, 242, 249, 251, 25...</td>\n",
       "    </tr>\n",
       "    <tr>\n",
       "      <th>1</th>\n",
       "      <td>9000010688666847</td>\n",
       "      <td>UA</td>\n",
       "      <td>[[[174, 145, 106, 38, 11, 4, 4, 15, 29, 78, 16...</td>\n",
       "    </tr>\n",
       "    <tr>\n",
       "      <th>2</th>\n",
       "      <td>9000023642890129</td>\n",
       "      <td>BG</td>\n",
       "      <td>[[[0, 12, 14, 17, 16, 24, 55, 57, 60, 79, 82, ...</td>\n",
       "    </tr>\n",
       "    <tr>\n",
       "      <th>3</th>\n",
       "      <td>9000038588854897</td>\n",
       "      <td>US</td>\n",
       "      <td>[[[0, 9, 23, 40, 54, 60, 81, 105, 123, 167, 20...</td>\n",
       "    </tr>\n",
       "    <tr>\n",
       "      <th>4</th>\n",
       "      <td>9000052667981386</td>\n",
       "      <td>AR</td>\n",
       "      <td>[[[87, 82, 71, 63, 66, 92, 96, 95], [220, 218,...</td>\n",
       "    </tr>\n",
       "  </tbody>\n",
       "</table>\n",
       "</div>"
      ],
      "text/plain": [
       "             key_id countrycode  \\\n",
       "0  9000003627287624          DE   \n",
       "1  9000010688666847          UA   \n",
       "2  9000023642890129          BG   \n",
       "3  9000038588854897          US   \n",
       "4  9000052667981386          AR   \n",
       "\n",
       "                                             drawing  \n",
       "0  [[[17, 18, 20, 25, 137, 174, 242, 249, 251, 25...  \n",
       "1  [[[174, 145, 106, 38, 11, 4, 4, 15, 29, 78, 16...  \n",
       "2  [[[0, 12, 14, 17, 16, 24, 55, 57, 60, 79, 82, ...  \n",
       "3  [[[0, 9, 23, 40, 54, 60, 81, 105, 123, 167, 20...  \n",
       "4  [[[87, 82, 71, 63, 66, 92, 96, 95], [220, 218,...  "
      ]
     },
     "execution_count": 12,
     "metadata": {},
     "output_type": "execute_result"
    }
   ],
   "source": [
    "def preprocessing_test(df) :\n",
    "    X= []\n",
    "    keys = df.iloc[:].index\n",
    "    for i in tqdm(range(len(df.loc[keys,'drawing'].values))) :\n",
    "        drawing = ast.literal_eval(df.loc[keys,'drawing'].values[i])\n",
    "        img = make_img(drawing)\n",
    "        img = np.array(img.resize((64,64)))\n",
    "        img = img.reshape(64,64,1)\n",
    "        X.append(img)\n",
    "    \n",
    "    tmpx = np.array(X)\n",
    "    return tmpx\n",
    "\n",
    "test = pd.read_csv(os.path.join('/kaggle/input/quickdraw-doodle-recognition', 'test_simplified.csv'))\n",
    "x_test = preprocessing_test(test)\n",
    "print(test.shape, x_test.shape)\n",
    "test.head()"
   ]
  },
  {
   "cell_type": "code",
   "execution_count": 13,
   "metadata": {},
   "outputs": [
    {
     "data": {
      "text/plain": [
       "<matplotlib.image.AxesImage at 0x7ff3c512b208>"
      ]
     },
     "execution_count": 13,
     "metadata": {},
     "output_type": "execute_result"
    },
    {
     "data": {
      "image/png": "[encoded data removed]",
      "text/plain": [
       "<Figure size 432x288 with 1 Axes>"
      ]
     },
     "metadata": {
      "needs_background": "light"
     },
     "output_type": "display_data"
    }
   ],
   "source": [
    "plt.imshow(x_test[0].reshape(64,64))"
   ]
  },
  {
   "cell_type": "markdown",
   "metadata": {},
   "source": [
    "# test데이터 예측"
   ]
  },
  {
   "cell_type": "code",
   "execution_count": 14,
   "metadata": {},
   "outputs": [
    {
     "name": "stdout",
     "output_type": "stream",
     "text": [
      "112199/112199 [==============================] - 18s 164us/step\n",
      "Finished !!\n",
      "[[236 131 270]\n",
      " [ 30 190 203]\n",
      " [ 40 180 223]\n",
      " ...\n",
      " [186 328  29]\n",
      " [182  29 246]\n",
      " [301 336 218]]\n"
     ]
    }
   ],
   "source": [
    "imgs = x_test\n",
    "pred = CNN.predict(imgs, verbose=1)\n",
    "top_3 = np.argsort(-pred)[:, 0:3]\n",
    "print(\"Finished !!\")\n",
    "\n",
    "#print(pred)\n",
    "print(top_3)"
   ]
  },
  {
   "cell_type": "markdown",
   "metadata": {},
   "source": [
    "# top3 예측값 클래스이름으로 변환"
   ]
  },
  {
   "cell_type": "code",
   "execution_count": 15,
   "metadata": {},
   "outputs": [
    {
     "name": "stdout",
     "output_type": "stream",
     "text": [
      "['radio stereo snorkel', 'hockey_puck belt bottlecap', 'The_Great_Wall_of_China castle camel', 'mountain tent axe', 'fireplace campfire feather']\n"
     ]
    }
   ],
   "source": [
    "top_3_pred = ['%s %s %s' % (class_label[k[0]], class_label[k[1]], class_label[k[2]]) for k in top_3]\n",
    "print(top_3_pred[0:5])"
   ]
  },
  {
   "cell_type": "markdown",
   "metadata": {},
   "source": [
    "# 제출"
   ]
  },
  {
   "cell_type": "code",
   "execution_count": 16,
   "metadata": {},
   "outputs": [
    {
     "data": {
      "text/html": [
       "<div>\n",
       "<style scoped>\n",
       "    .dataframe tbody tr th:only-of-type {\n",
       "        vertical-align: middle;\n",
       "    }\n",
       "\n",
       "    .dataframe tbody tr th {\n",
       "        vertical-align: top;\n",
       "    }\n",
       "\n",
       "    .dataframe thead th {\n",
       "        text-align: right;\n",
       "    }\n",
       "</style>\n",
       "<table border=\"1\" class=\"dataframe\">\n",
       "  <thead>\n",
       "    <tr style=\"text-align: right;\">\n",
       "      <th></th>\n",
       "      <th>word</th>\n",
       "    </tr>\n",
       "    <tr>\n",
       "      <th>key_id</th>\n",
       "      <th></th>\n",
       "    </tr>\n",
       "  </thead>\n",
       "  <tbody>\n",
       "    <tr>\n",
       "      <th>9000003627287624</th>\n",
       "      <td>radio stereo snorkel</td>\n",
       "    </tr>\n",
       "    <tr>\n",
       "      <th>9000010688666847</th>\n",
       "      <td>hockey_puck belt bottlecap</td>\n",
       "    </tr>\n",
       "    <tr>\n",
       "      <th>9000023642890129</th>\n",
       "      <td>The_Great_Wall_of_China castle camel</td>\n",
       "    </tr>\n",
       "    <tr>\n",
       "      <th>9000038588854897</th>\n",
       "      <td>mountain tent axe</td>\n",
       "    </tr>\n",
       "    <tr>\n",
       "      <th>9000052667981386</th>\n",
       "      <td>fireplace campfire feather</td>\n",
       "    </tr>\n",
       "  </tbody>\n",
       "</table>\n",
       "</div>"
      ],
      "text/plain": [
       "                                                  word\n",
       "key_id                                                \n",
       "9000003627287624                  radio stereo snorkel\n",
       "9000010688666847            hockey_puck belt bottlecap\n",
       "9000023642890129  The_Great_Wall_of_China castle camel\n",
       "9000038588854897                     mountain tent axe\n",
       "9000052667981386            fireplace campfire feather"
      ]
     },
     "execution_count": 16,
     "metadata": {},
     "output_type": "execute_result"
    }
   ],
   "source": [
    "preds_df = pd.read_csv('/kaggle/input/quickdraw-doodle-recognition/sample_submission.csv', index_col=['key_id'])\n",
    "preds_df['word'] = top_3_pred\n",
    "preds_df.to_csv('subcnn_small.csv')\n",
    "preds_df.head()"
   ]
  },
  {
   "cell_type": "code",
   "execution_count": null,
   "metadata": {},
   "outputs": [],
   "source": []
  }
 ],
 "metadata": {
  "kernelspec": {
   "display_name": "Python 3",
   "language": "python",
   "name": "python3"
  },
  "language_info": {
   "codemirror_mode": {
    "name": "ipython",
    "version": 3
   },
   "file_extension": ".py",
   "mimetype": "text/x-python",
   "name": "python",
   "nbconvert_exporter": "python",
   "pygments_lexer": "ipython3",
   "version": "3.6.6"
  }
 },
 "nbformat": 4,
 "nbformat_minor": 1
}
